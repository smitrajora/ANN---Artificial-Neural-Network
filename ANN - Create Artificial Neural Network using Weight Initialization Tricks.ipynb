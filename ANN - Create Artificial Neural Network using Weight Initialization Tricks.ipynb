{
 "cells": [
  {
   "cell_type": "code",
   "execution_count": 1,
   "metadata": {},
   "outputs": [],
   "source": [
    "# part-1 Data Preprocessing\n",
    "\n",
    "# Importing the liabraries\n",
    "import numpy as np\n",
    "import matplotlib.pyplot as plt\n",
    "import pandas as pd"
   ]
  },
  {
   "cell_type": "code",
   "execution_count": 31,
   "metadata": {},
   "outputs": [],
   "source": [
    "# Importing the dataset\n",
    "dataset = pd.read_csv(\"D:/python/Churn_Modelling.csv\")"
   ]
  },
  {
   "cell_type": "code",
   "execution_count": 33,
   "metadata": {},
   "outputs": [
    {
     "data": {
      "text/html": [
       "<div>\n",
       "<style scoped>\n",
       "    .dataframe tbody tr th:only-of-type {\n",
       "        vertical-align: middle;\n",
       "    }\n",
       "\n",
       "    .dataframe tbody tr th {\n",
       "        vertical-align: top;\n",
       "    }\n",
       "\n",
       "    .dataframe thead th {\n",
       "        text-align: right;\n",
       "    }\n",
       "</style>\n",
       "<table border=\"1\" class=\"dataframe\">\n",
       "  <thead>\n",
       "    <tr style=\"text-align: right;\">\n",
       "      <th></th>\n",
       "      <th>RowNumber</th>\n",
       "      <th>CustomerId</th>\n",
       "      <th>Surname</th>\n",
       "      <th>CreditScore</th>\n",
       "      <th>Geography</th>\n",
       "      <th>Gender</th>\n",
       "      <th>Age</th>\n",
       "      <th>Tenure</th>\n",
       "      <th>Balance</th>\n",
       "      <th>NumOfProducts</th>\n",
       "      <th>HasCrCard</th>\n",
       "      <th>IsActiveMember</th>\n",
       "      <th>EstimatedSalary</th>\n",
       "      <th>Exited</th>\n",
       "    </tr>\n",
       "  </thead>\n",
       "  <tbody>\n",
       "    <tr>\n",
       "      <th>0</th>\n",
       "      <td>1</td>\n",
       "      <td>15634602</td>\n",
       "      <td>Hargrave</td>\n",
       "      <td>619</td>\n",
       "      <td>France</td>\n",
       "      <td>Female</td>\n",
       "      <td>42</td>\n",
       "      <td>2</td>\n",
       "      <td>0.00</td>\n",
       "      <td>1</td>\n",
       "      <td>1</td>\n",
       "      <td>1</td>\n",
       "      <td>101348.88</td>\n",
       "      <td>1</td>\n",
       "    </tr>\n",
       "    <tr>\n",
       "      <th>1</th>\n",
       "      <td>2</td>\n",
       "      <td>15647311</td>\n",
       "      <td>Hill</td>\n",
       "      <td>608</td>\n",
       "      <td>Spain</td>\n",
       "      <td>Female</td>\n",
       "      <td>41</td>\n",
       "      <td>1</td>\n",
       "      <td>83807.86</td>\n",
       "      <td>1</td>\n",
       "      <td>0</td>\n",
       "      <td>1</td>\n",
       "      <td>112542.58</td>\n",
       "      <td>0</td>\n",
       "    </tr>\n",
       "    <tr>\n",
       "      <th>2</th>\n",
       "      <td>3</td>\n",
       "      <td>15619304</td>\n",
       "      <td>Onio</td>\n",
       "      <td>502</td>\n",
       "      <td>France</td>\n",
       "      <td>Female</td>\n",
       "      <td>42</td>\n",
       "      <td>8</td>\n",
       "      <td>159660.80</td>\n",
       "      <td>3</td>\n",
       "      <td>1</td>\n",
       "      <td>0</td>\n",
       "      <td>113931.57</td>\n",
       "      <td>1</td>\n",
       "    </tr>\n",
       "    <tr>\n",
       "      <th>3</th>\n",
       "      <td>4</td>\n",
       "      <td>15701354</td>\n",
       "      <td>Boni</td>\n",
       "      <td>699</td>\n",
       "      <td>France</td>\n",
       "      <td>Female</td>\n",
       "      <td>39</td>\n",
       "      <td>1</td>\n",
       "      <td>0.00</td>\n",
       "      <td>2</td>\n",
       "      <td>0</td>\n",
       "      <td>0</td>\n",
       "      <td>93826.63</td>\n",
       "      <td>0</td>\n",
       "    </tr>\n",
       "    <tr>\n",
       "      <th>4</th>\n",
       "      <td>5</td>\n",
       "      <td>15737888</td>\n",
       "      <td>Mitchell</td>\n",
       "      <td>850</td>\n",
       "      <td>Spain</td>\n",
       "      <td>Female</td>\n",
       "      <td>43</td>\n",
       "      <td>2</td>\n",
       "      <td>125510.82</td>\n",
       "      <td>1</td>\n",
       "      <td>1</td>\n",
       "      <td>1</td>\n",
       "      <td>79084.10</td>\n",
       "      <td>0</td>\n",
       "    </tr>\n",
       "  </tbody>\n",
       "</table>\n",
       "</div>"
      ],
      "text/plain": [
       "   RowNumber  CustomerId   Surname  CreditScore Geography  Gender  Age  \\\n",
       "0          1    15634602  Hargrave          619    France  Female   42   \n",
       "1          2    15647311      Hill          608     Spain  Female   41   \n",
       "2          3    15619304      Onio          502    France  Female   42   \n",
       "3          4    15701354      Boni          699    France  Female   39   \n",
       "4          5    15737888  Mitchell          850     Spain  Female   43   \n",
       "\n",
       "   Tenure    Balance  NumOfProducts  HasCrCard  IsActiveMember  \\\n",
       "0       2       0.00              1          1               1   \n",
       "1       1   83807.86              1          0               1   \n",
       "2       8  159660.80              3          1               0   \n",
       "3       1       0.00              2          0               0   \n",
       "4       2  125510.82              1          1               1   \n",
       "\n",
       "   EstimatedSalary  Exited  \n",
       "0        101348.88       1  \n",
       "1        112542.58       0  \n",
       "2        113931.57       1  \n",
       "3         93826.63       0  \n",
       "4         79084.10       0  "
      ]
     },
     "execution_count": 33,
     "metadata": {},
     "output_type": "execute_result"
    }
   ],
   "source": [
    "dataset.head()"
   ]
  },
  {
   "cell_type": "code",
   "execution_count": 34,
   "metadata": {},
   "outputs": [],
   "source": [
    "x= dataset.iloc[:,3:13]\n",
    "y= dataset.iloc[:,13]"
   ]
  },
  {
   "cell_type": "code",
   "execution_count": 35,
   "metadata": {},
   "outputs": [
    {
     "data": {
      "text/html": [
       "<div>\n",
       "<style scoped>\n",
       "    .dataframe tbody tr th:only-of-type {\n",
       "        vertical-align: middle;\n",
       "    }\n",
       "\n",
       "    .dataframe tbody tr th {\n",
       "        vertical-align: top;\n",
       "    }\n",
       "\n",
       "    .dataframe thead th {\n",
       "        text-align: right;\n",
       "    }\n",
       "</style>\n",
       "<table border=\"1\" class=\"dataframe\">\n",
       "  <thead>\n",
       "    <tr style=\"text-align: right;\">\n",
       "      <th></th>\n",
       "      <th>CreditScore</th>\n",
       "      <th>Geography</th>\n",
       "      <th>Gender</th>\n",
       "      <th>Age</th>\n",
       "      <th>Tenure</th>\n",
       "      <th>Balance</th>\n",
       "      <th>NumOfProducts</th>\n",
       "      <th>HasCrCard</th>\n",
       "      <th>IsActiveMember</th>\n",
       "      <th>EstimatedSalary</th>\n",
       "    </tr>\n",
       "  </thead>\n",
       "  <tbody>\n",
       "    <tr>\n",
       "      <th>0</th>\n",
       "      <td>619</td>\n",
       "      <td>France</td>\n",
       "      <td>Female</td>\n",
       "      <td>42</td>\n",
       "      <td>2</td>\n",
       "      <td>0.00</td>\n",
       "      <td>1</td>\n",
       "      <td>1</td>\n",
       "      <td>1</td>\n",
       "      <td>101348.88</td>\n",
       "    </tr>\n",
       "    <tr>\n",
       "      <th>1</th>\n",
       "      <td>608</td>\n",
       "      <td>Spain</td>\n",
       "      <td>Female</td>\n",
       "      <td>41</td>\n",
       "      <td>1</td>\n",
       "      <td>83807.86</td>\n",
       "      <td>1</td>\n",
       "      <td>0</td>\n",
       "      <td>1</td>\n",
       "      <td>112542.58</td>\n",
       "    </tr>\n",
       "    <tr>\n",
       "      <th>2</th>\n",
       "      <td>502</td>\n",
       "      <td>France</td>\n",
       "      <td>Female</td>\n",
       "      <td>42</td>\n",
       "      <td>8</td>\n",
       "      <td>159660.80</td>\n",
       "      <td>3</td>\n",
       "      <td>1</td>\n",
       "      <td>0</td>\n",
       "      <td>113931.57</td>\n",
       "    </tr>\n",
       "    <tr>\n",
       "      <th>3</th>\n",
       "      <td>699</td>\n",
       "      <td>France</td>\n",
       "      <td>Female</td>\n",
       "      <td>39</td>\n",
       "      <td>1</td>\n",
       "      <td>0.00</td>\n",
       "      <td>2</td>\n",
       "      <td>0</td>\n",
       "      <td>0</td>\n",
       "      <td>93826.63</td>\n",
       "    </tr>\n",
       "    <tr>\n",
       "      <th>4</th>\n",
       "      <td>850</td>\n",
       "      <td>Spain</td>\n",
       "      <td>Female</td>\n",
       "      <td>43</td>\n",
       "      <td>2</td>\n",
       "      <td>125510.82</td>\n",
       "      <td>1</td>\n",
       "      <td>1</td>\n",
       "      <td>1</td>\n",
       "      <td>79084.10</td>\n",
       "    </tr>\n",
       "  </tbody>\n",
       "</table>\n",
       "</div>"
      ],
      "text/plain": [
       "   CreditScore Geography  Gender  Age  Tenure    Balance  NumOfProducts  \\\n",
       "0          619    France  Female   42       2       0.00              1   \n",
       "1          608     Spain  Female   41       1   83807.86              1   \n",
       "2          502    France  Female   42       8  159660.80              3   \n",
       "3          699    France  Female   39       1       0.00              2   \n",
       "4          850     Spain  Female   43       2  125510.82              1   \n",
       "\n",
       "   HasCrCard  IsActiveMember  EstimatedSalary  \n",
       "0          1               1        101348.88  \n",
       "1          0               1        112542.58  \n",
       "2          1               0        113931.57  \n",
       "3          0               0         93826.63  \n",
       "4          1               1         79084.10  "
      ]
     },
     "execution_count": 35,
     "metadata": {},
     "output_type": "execute_result"
    }
   ],
   "source": [
    "x.head()"
   ]
  },
  {
   "cell_type": "code",
   "execution_count": 36,
   "metadata": {},
   "outputs": [
    {
     "data": {
      "text/plain": [
       "0    1\n",
       "1    0\n",
       "2    1\n",
       "3    0\n",
       "4    0\n",
       "Name: Exited, dtype: int64"
      ]
     },
     "execution_count": 36,
     "metadata": {},
     "output_type": "execute_result"
    }
   ],
   "source": [
    "y.head()"
   ]
  },
  {
   "cell_type": "code",
   "execution_count": 37,
   "metadata": {},
   "outputs": [],
   "source": [
    "# Create dummy variables\n",
    "geography= pd.get_dummies(x[\"Geography\"],drop_first=True)\n",
    "gender=pd.get_dummies(x['Gender'],drop_first=True)"
   ]
  },
  {
   "cell_type": "code",
   "execution_count": 38,
   "metadata": {},
   "outputs": [],
   "source": [
    "## Concatenate the Data Frames\n",
    "\n",
    "x=pd.concat([x,geography,gender],axis=1)"
   ]
  },
  {
   "cell_type": "code",
   "execution_count": 39,
   "metadata": {},
   "outputs": [
    {
     "data": {
      "text/html": [
       "<div>\n",
       "<style scoped>\n",
       "    .dataframe tbody tr th:only-of-type {\n",
       "        vertical-align: middle;\n",
       "    }\n",
       "\n",
       "    .dataframe tbody tr th {\n",
       "        vertical-align: top;\n",
       "    }\n",
       "\n",
       "    .dataframe thead th {\n",
       "        text-align: right;\n",
       "    }\n",
       "</style>\n",
       "<table border=\"1\" class=\"dataframe\">\n",
       "  <thead>\n",
       "    <tr style=\"text-align: right;\">\n",
       "      <th></th>\n",
       "      <th>CreditScore</th>\n",
       "      <th>Geography</th>\n",
       "      <th>Gender</th>\n",
       "      <th>Age</th>\n",
       "      <th>Tenure</th>\n",
       "      <th>Balance</th>\n",
       "      <th>NumOfProducts</th>\n",
       "      <th>HasCrCard</th>\n",
       "      <th>IsActiveMember</th>\n",
       "      <th>EstimatedSalary</th>\n",
       "      <th>Germany</th>\n",
       "      <th>Spain</th>\n",
       "      <th>Male</th>\n",
       "    </tr>\n",
       "  </thead>\n",
       "  <tbody>\n",
       "    <tr>\n",
       "      <th>0</th>\n",
       "      <td>619</td>\n",
       "      <td>France</td>\n",
       "      <td>Female</td>\n",
       "      <td>42</td>\n",
       "      <td>2</td>\n",
       "      <td>0.00</td>\n",
       "      <td>1</td>\n",
       "      <td>1</td>\n",
       "      <td>1</td>\n",
       "      <td>101348.88</td>\n",
       "      <td>0</td>\n",
       "      <td>0</td>\n",
       "      <td>0</td>\n",
       "    </tr>\n",
       "    <tr>\n",
       "      <th>1</th>\n",
       "      <td>608</td>\n",
       "      <td>Spain</td>\n",
       "      <td>Female</td>\n",
       "      <td>41</td>\n",
       "      <td>1</td>\n",
       "      <td>83807.86</td>\n",
       "      <td>1</td>\n",
       "      <td>0</td>\n",
       "      <td>1</td>\n",
       "      <td>112542.58</td>\n",
       "      <td>0</td>\n",
       "      <td>1</td>\n",
       "      <td>0</td>\n",
       "    </tr>\n",
       "    <tr>\n",
       "      <th>2</th>\n",
       "      <td>502</td>\n",
       "      <td>France</td>\n",
       "      <td>Female</td>\n",
       "      <td>42</td>\n",
       "      <td>8</td>\n",
       "      <td>159660.80</td>\n",
       "      <td>3</td>\n",
       "      <td>1</td>\n",
       "      <td>0</td>\n",
       "      <td>113931.57</td>\n",
       "      <td>0</td>\n",
       "      <td>0</td>\n",
       "      <td>0</td>\n",
       "    </tr>\n",
       "    <tr>\n",
       "      <th>3</th>\n",
       "      <td>699</td>\n",
       "      <td>France</td>\n",
       "      <td>Female</td>\n",
       "      <td>39</td>\n",
       "      <td>1</td>\n",
       "      <td>0.00</td>\n",
       "      <td>2</td>\n",
       "      <td>0</td>\n",
       "      <td>0</td>\n",
       "      <td>93826.63</td>\n",
       "      <td>0</td>\n",
       "      <td>0</td>\n",
       "      <td>0</td>\n",
       "    </tr>\n",
       "    <tr>\n",
       "      <th>4</th>\n",
       "      <td>850</td>\n",
       "      <td>Spain</td>\n",
       "      <td>Female</td>\n",
       "      <td>43</td>\n",
       "      <td>2</td>\n",
       "      <td>125510.82</td>\n",
       "      <td>1</td>\n",
       "      <td>1</td>\n",
       "      <td>1</td>\n",
       "      <td>79084.10</td>\n",
       "      <td>0</td>\n",
       "      <td>1</td>\n",
       "      <td>0</td>\n",
       "    </tr>\n",
       "  </tbody>\n",
       "</table>\n",
       "</div>"
      ],
      "text/plain": [
       "   CreditScore Geography  Gender  Age  Tenure    Balance  NumOfProducts  \\\n",
       "0          619    France  Female   42       2       0.00              1   \n",
       "1          608     Spain  Female   41       1   83807.86              1   \n",
       "2          502    France  Female   42       8  159660.80              3   \n",
       "3          699    France  Female   39       1       0.00              2   \n",
       "4          850     Spain  Female   43       2  125510.82              1   \n",
       "\n",
       "   HasCrCard  IsActiveMember  EstimatedSalary  Germany  Spain  Male  \n",
       "0          1               1        101348.88        0      0     0  \n",
       "1          0               1        112542.58        0      1     0  \n",
       "2          1               0        113931.57        0      0     0  \n",
       "3          0               0         93826.63        0      0     0  \n",
       "4          1               1         79084.10        0      1     0  "
      ]
     },
     "execution_count": 39,
     "metadata": {},
     "output_type": "execute_result"
    }
   ],
   "source": [
    "x.head()"
   ]
  },
  {
   "cell_type": "code",
   "execution_count": 40,
   "metadata": {},
   "outputs": [],
   "source": [
    "## Drop Unnecessary columns\n",
    "\n",
    "x=x.drop(['Geography','Gender'],axis=1)"
   ]
  },
  {
   "cell_type": "code",
   "execution_count": 41,
   "metadata": {},
   "outputs": [
    {
     "data": {
      "text/html": [
       "<div>\n",
       "<style scoped>\n",
       "    .dataframe tbody tr th:only-of-type {\n",
       "        vertical-align: middle;\n",
       "    }\n",
       "\n",
       "    .dataframe tbody tr th {\n",
       "        vertical-align: top;\n",
       "    }\n",
       "\n",
       "    .dataframe thead th {\n",
       "        text-align: right;\n",
       "    }\n",
       "</style>\n",
       "<table border=\"1\" class=\"dataframe\">\n",
       "  <thead>\n",
       "    <tr style=\"text-align: right;\">\n",
       "      <th></th>\n",
       "      <th>CreditScore</th>\n",
       "      <th>Age</th>\n",
       "      <th>Tenure</th>\n",
       "      <th>Balance</th>\n",
       "      <th>NumOfProducts</th>\n",
       "      <th>HasCrCard</th>\n",
       "      <th>IsActiveMember</th>\n",
       "      <th>EstimatedSalary</th>\n",
       "      <th>Germany</th>\n",
       "      <th>Spain</th>\n",
       "      <th>Male</th>\n",
       "    </tr>\n",
       "  </thead>\n",
       "  <tbody>\n",
       "    <tr>\n",
       "      <th>0</th>\n",
       "      <td>619</td>\n",
       "      <td>42</td>\n",
       "      <td>2</td>\n",
       "      <td>0.00</td>\n",
       "      <td>1</td>\n",
       "      <td>1</td>\n",
       "      <td>1</td>\n",
       "      <td>101348.88</td>\n",
       "      <td>0</td>\n",
       "      <td>0</td>\n",
       "      <td>0</td>\n",
       "    </tr>\n",
       "    <tr>\n",
       "      <th>1</th>\n",
       "      <td>608</td>\n",
       "      <td>41</td>\n",
       "      <td>1</td>\n",
       "      <td>83807.86</td>\n",
       "      <td>1</td>\n",
       "      <td>0</td>\n",
       "      <td>1</td>\n",
       "      <td>112542.58</td>\n",
       "      <td>0</td>\n",
       "      <td>1</td>\n",
       "      <td>0</td>\n",
       "    </tr>\n",
       "    <tr>\n",
       "      <th>2</th>\n",
       "      <td>502</td>\n",
       "      <td>42</td>\n",
       "      <td>8</td>\n",
       "      <td>159660.80</td>\n",
       "      <td>3</td>\n",
       "      <td>1</td>\n",
       "      <td>0</td>\n",
       "      <td>113931.57</td>\n",
       "      <td>0</td>\n",
       "      <td>0</td>\n",
       "      <td>0</td>\n",
       "    </tr>\n",
       "    <tr>\n",
       "      <th>3</th>\n",
       "      <td>699</td>\n",
       "      <td>39</td>\n",
       "      <td>1</td>\n",
       "      <td>0.00</td>\n",
       "      <td>2</td>\n",
       "      <td>0</td>\n",
       "      <td>0</td>\n",
       "      <td>93826.63</td>\n",
       "      <td>0</td>\n",
       "      <td>0</td>\n",
       "      <td>0</td>\n",
       "    </tr>\n",
       "    <tr>\n",
       "      <th>4</th>\n",
       "      <td>850</td>\n",
       "      <td>43</td>\n",
       "      <td>2</td>\n",
       "      <td>125510.82</td>\n",
       "      <td>1</td>\n",
       "      <td>1</td>\n",
       "      <td>1</td>\n",
       "      <td>79084.10</td>\n",
       "      <td>0</td>\n",
       "      <td>1</td>\n",
       "      <td>0</td>\n",
       "    </tr>\n",
       "  </tbody>\n",
       "</table>\n",
       "</div>"
      ],
      "text/plain": [
       "   CreditScore  Age  Tenure    Balance  NumOfProducts  HasCrCard  \\\n",
       "0          619   42       2       0.00              1          1   \n",
       "1          608   41       1   83807.86              1          0   \n",
       "2          502   42       8  159660.80              3          1   \n",
       "3          699   39       1       0.00              2          0   \n",
       "4          850   43       2  125510.82              1          1   \n",
       "\n",
       "   IsActiveMember  EstimatedSalary  Germany  Spain  Male  \n",
       "0               1        101348.88        0      0     0  \n",
       "1               1        112542.58        0      1     0  \n",
       "2               0        113931.57        0      0     0  \n",
       "3               0         93826.63        0      0     0  \n",
       "4               1         79084.10        0      1     0  "
      ]
     },
     "execution_count": 41,
     "metadata": {},
     "output_type": "execute_result"
    }
   ],
   "source": [
    "x.head()"
   ]
  },
  {
   "cell_type": "code",
   "execution_count": 42,
   "metadata": {},
   "outputs": [],
   "source": [
    "# Splitting the dataset into the Training set and Test set\n",
    "\n",
    "from sklearn.model_selection import train_test_split\n",
    "x_train,x_test,y_train,y_test = train_test_split(x,y,test_size=0.2)"
   ]
  },
  {
   "cell_type": "code",
   "execution_count": 43,
   "metadata": {},
   "outputs": [],
   "source": [
    "# Feature Scaling\n",
    "\n",
    "from sklearn.preprocessing import StandardScaler\n",
    "sc = StandardScaler()\n",
    "x_train = sc.fit_transform(x_train)\n",
    "x_test = sc.transform(x_test)"
   ]
  },
  {
   "cell_type": "code",
   "execution_count": 45,
   "metadata": {},
   "outputs": [
    {
     "data": {
      "text/plain": [
       "array([[ 1.3898594 , -0.27805085, -0.34028423, ..., -0.58312392,\n",
       "        -0.57157662, -1.09361434],\n",
       "       [-0.57284679, -1.23779837,  1.04880816, ...,  1.71490137,\n",
       "        -0.57157662, -1.09361434],\n",
       "       [-0.82076757, -1.33377312,  0.35426197, ...,  1.71490137,\n",
       "        -0.57157662,  0.91439913],\n",
       "       ...,\n",
       "       [-0.21129565, -0.56597511,  1.39608126, ..., -0.58312392,\n",
       "        -0.57157662,  0.91439913],\n",
       "       [ 1.14193862, -0.66194986, -0.34028423, ..., -0.58312392,\n",
       "         1.74954671, -1.09361434],\n",
       "       [-1.21330881, -1.62169738,  1.74335435, ...,  1.71490137,\n",
       "        -0.57157662, -1.09361434]])"
      ]
     },
     "execution_count": 45,
     "metadata": {},
     "output_type": "execute_result"
    }
   ],
   "source": [
    "x_train"
   ]
  },
  {
   "cell_type": "code",
   "execution_count": 46,
   "metadata": {},
   "outputs": [
    {
     "name": "stderr",
     "output_type": "stream",
     "text": [
      "Using TensorFlow backend.\n",
      "C:\\Users\\Smit\\anaconda3\\lib\\site-packages\\tensorflow\\python\\framework\\dtypes.py:516: FutureWarning: Passing (type, 1) or '1type' as a synonym of type is deprecated; in a future version of numpy, it will be understood as (type, (1,)) / '(1,)type'.\n",
      "  _np_qint8 = np.dtype([(\"qint8\", np.int8, 1)])\n",
      "C:\\Users\\Smit\\anaconda3\\lib\\site-packages\\tensorflow\\python\\framework\\dtypes.py:517: FutureWarning: Passing (type, 1) or '1type' as a synonym of type is deprecated; in a future version of numpy, it will be understood as (type, (1,)) / '(1,)type'.\n",
      "  _np_quint8 = np.dtype([(\"quint8\", np.uint8, 1)])\n",
      "C:\\Users\\Smit\\anaconda3\\lib\\site-packages\\tensorflow\\python\\framework\\dtypes.py:518: FutureWarning: Passing (type, 1) or '1type' as a synonym of type is deprecated; in a future version of numpy, it will be understood as (type, (1,)) / '(1,)type'.\n",
      "  _np_qint16 = np.dtype([(\"qint16\", np.int16, 1)])\n",
      "C:\\Users\\Smit\\anaconda3\\lib\\site-packages\\tensorflow\\python\\framework\\dtypes.py:519: FutureWarning: Passing (type, 1) or '1type' as a synonym of type is deprecated; in a future version of numpy, it will be understood as (type, (1,)) / '(1,)type'.\n",
      "  _np_quint16 = np.dtype([(\"quint16\", np.uint16, 1)])\n",
      "C:\\Users\\Smit\\anaconda3\\lib\\site-packages\\tensorflow\\python\\framework\\dtypes.py:520: FutureWarning: Passing (type, 1) or '1type' as a synonym of type is deprecated; in a future version of numpy, it will be understood as (type, (1,)) / '(1,)type'.\n",
      "  _np_qint32 = np.dtype([(\"qint32\", np.int32, 1)])\n",
      "C:\\Users\\Smit\\anaconda3\\lib\\site-packages\\tensorflow\\python\\framework\\dtypes.py:525: FutureWarning: Passing (type, 1) or '1type' as a synonym of type is deprecated; in a future version of numpy, it will be understood as (type, (1,)) / '(1,)type'.\n",
      "  np_resource = np.dtype([(\"resource\", np.ubyte, 1)])\n",
      "C:\\Users\\Smit\\anaconda3\\lib\\site-packages\\tensorboard\\compat\\tensorflow_stub\\dtypes.py:541: FutureWarning: Passing (type, 1) or '1type' as a synonym of type is deprecated; in a future version of numpy, it will be understood as (type, (1,)) / '(1,)type'.\n",
      "  _np_qint8 = np.dtype([(\"qint8\", np.int8, 1)])\n",
      "C:\\Users\\Smit\\anaconda3\\lib\\site-packages\\tensorboard\\compat\\tensorflow_stub\\dtypes.py:542: FutureWarning: Passing (type, 1) or '1type' as a synonym of type is deprecated; in a future version of numpy, it will be understood as (type, (1,)) / '(1,)type'.\n",
      "  _np_quint8 = np.dtype([(\"quint8\", np.uint8, 1)])\n",
      "C:\\Users\\Smit\\anaconda3\\lib\\site-packages\\tensorboard\\compat\\tensorflow_stub\\dtypes.py:543: FutureWarning: Passing (type, 1) or '1type' as a synonym of type is deprecated; in a future version of numpy, it will be understood as (type, (1,)) / '(1,)type'.\n",
      "  _np_qint16 = np.dtype([(\"qint16\", np.int16, 1)])\n",
      "C:\\Users\\Smit\\anaconda3\\lib\\site-packages\\tensorboard\\compat\\tensorflow_stub\\dtypes.py:544: FutureWarning: Passing (type, 1) or '1type' as a synonym of type is deprecated; in a future version of numpy, it will be understood as (type, (1,)) / '(1,)type'.\n",
      "  _np_quint16 = np.dtype([(\"quint16\", np.uint16, 1)])\n",
      "C:\\Users\\Smit\\anaconda3\\lib\\site-packages\\tensorboard\\compat\\tensorflow_stub\\dtypes.py:545: FutureWarning: Passing (type, 1) or '1type' as a synonym of type is deprecated; in a future version of numpy, it will be understood as (type, (1,)) / '(1,)type'.\n",
      "  _np_qint32 = np.dtype([(\"qint32\", np.int32, 1)])\n",
      "C:\\Users\\Smit\\anaconda3\\lib\\site-packages\\tensorboard\\compat\\tensorflow_stub\\dtypes.py:550: FutureWarning: Passing (type, 1) or '1type' as a synonym of type is deprecated; in a future version of numpy, it will be understood as (type, (1,)) / '(1,)type'.\n",
      "  np_resource = np.dtype([(\"resource\", np.ubyte, 1)])\n"
     ]
    }
   ],
   "source": [
    "# Part 2 - Now let's make the ANN!\n",
    "\n",
    "# Importing the Keras libraries and packages\n",
    "import keras\n",
    "from keras.models import Sequential\n",
    "from keras.layers import Dense\n",
    "from keras.layers import LeakyReLU,PReLU,ELU\n",
    "from keras.layers import Dropout"
   ]
  },
  {
   "cell_type": "code",
   "execution_count": 47,
   "metadata": {},
   "outputs": [],
   "source": [
    "# Initialising the ANN\n",
    "classifier = Sequential()"
   ]
  },
  {
   "cell_type": "code",
   "execution_count": 48,
   "metadata": {},
   "outputs": [
    {
     "name": "stderr",
     "output_type": "stream",
     "text": [
      "C:\\Users\\Smit\\anaconda3\\lib\\site-packages\\ipykernel_launcher.py:2: UserWarning: Update your `Dense` call to the Keras 2 API: `Dense(activation=\"relu\", input_dim=11, units=6, kernel_initializer=\"he_uniform\")`\n",
      "  \n"
     ]
    }
   ],
   "source": [
    "# Adding the input layer and the first hidden layer\n",
    "classifier.add(Dense(output_dim = 6, init = 'he_uniform',activation='relu',input_dim = 11)) "
   ]
  },
  {
   "cell_type": "code",
   "execution_count": 49,
   "metadata": {},
   "outputs": [
    {
     "name": "stderr",
     "output_type": "stream",
     "text": [
      "C:\\Users\\Smit\\anaconda3\\lib\\site-packages\\ipykernel_launcher.py:2: UserWarning: Update your `Dense` call to the Keras 2 API: `Dense(activation=\"relu\", units=6, kernel_initializer=\"he_uniform\")`\n",
      "  \n"
     ]
    }
   ],
   "source": [
    "# Adding the second hidden layer\n",
    "classifier.add(Dense(output_dim = 6, init = 'he_uniform',activation='relu'))"
   ]
  },
  {
   "cell_type": "code",
   "execution_count": 50,
   "metadata": {},
   "outputs": [
    {
     "name": "stderr",
     "output_type": "stream",
     "text": [
      "C:\\Users\\Smit\\anaconda3\\lib\\site-packages\\ipykernel_launcher.py:2: UserWarning: Update your `Dense` call to the Keras 2 API: `Dense(activation=\"sigmoid\", units=1, kernel_initializer=\"glorot_uniform\")`\n",
      "  \n"
     ]
    }
   ],
   "source": [
    "# Adding the output layer\n",
    "classifier.add(Dense(output_dim = 1, init = 'glorot_uniform', activation = 'sigmoid'))"
   ]
  },
  {
   "cell_type": "code",
   "execution_count": 51,
   "metadata": {},
   "outputs": [
    {
     "name": "stdout",
     "output_type": "stream",
     "text": [
      "WARNING:tensorflow:From C:\\Users\\Smit\\anaconda3\\lib\\site-packages\\tensorflow\\python\\ops\\nn_impl.py:180: add_dispatch_support.<locals>.wrapper (from tensorflow.python.ops.array_ops) is deprecated and will be removed in a future version.\n",
      "Instructions for updating:\n",
      "Use tf.where in 2.0, which has the same broadcast rule as np.where\n"
     ]
    }
   ],
   "source": [
    "# Compiling the ANN\n",
    "classifier.compile(optimizer = 'Adamax', loss = 'binary_crossentropy', metrics = ['accuracy'])"
   ]
  },
  {
   "cell_type": "code",
   "execution_count": 52,
   "metadata": {},
   "outputs": [
    {
     "name": "stderr",
     "output_type": "stream",
     "text": [
      "C:\\Users\\Smit\\anaconda3\\lib\\site-packages\\ipykernel_launcher.py:2: UserWarning: The `nb_epoch` argument in `fit` has been renamed `epochs`.\n",
      "  \n"
     ]
    },
    {
     "name": "stdout",
     "output_type": "stream",
     "text": [
      "WARNING:tensorflow:From C:\\Users\\Smit\\anaconda3\\lib\\site-packages\\keras\\backend\\tensorflow_backend.py:422: The name tf.global_variables is deprecated. Please use tf.compat.v1.global_variables instead.\n",
      "\n",
      "Train on 5359 samples, validate on 2641 samples\n",
      "Epoch 1/100\n",
      "5359/5359 [==============================] - 3s 576us/step - loss: 0.5448 - accuracy: 0.7826 - val_loss: 0.4979 - val_accuracy: 0.8023\n",
      "Epoch 2/100\n",
      "5359/5359 [==============================] - 1s 212us/step - loss: 0.4856 - accuracy: 0.8029 - val_loss: 0.4707 - val_accuracy: 0.8054\n",
      "Epoch 3/100\n",
      "5359/5359 [==============================] - 1s 207us/step - loss: 0.4661 - accuracy: 0.8046 - val_loss: 0.4591 - val_accuracy: 0.8058\n",
      "Epoch 4/100\n",
      "5359/5359 [==============================] - 1s 203us/step - loss: 0.4562 - accuracy: 0.8059 - val_loss: 0.4523 - val_accuracy: 0.8092\n",
      "Epoch 5/100\n",
      "5359/5359 [==============================] - 1s 201us/step - loss: 0.4504 - accuracy: 0.8067 - val_loss: 0.4478 - val_accuracy: 0.8080\n",
      "Epoch 6/100\n",
      "5359/5359 [==============================] - 1s 155us/step - loss: 0.4462 - accuracy: 0.8071 - val_loss: 0.4442 - val_accuracy: 0.8107\n",
      "Epoch 7/100\n",
      "5359/5359 [==============================] - 1s 143us/step - loss: 0.4425 - accuracy: 0.8104 - val_loss: 0.4411 - val_accuracy: 0.8122\n",
      "Epoch 8/100\n",
      "5359/5359 [==============================] - 1s 154us/step - loss: 0.4395 - accuracy: 0.8113 - val_loss: 0.4382 - val_accuracy: 0.8129\n",
      "Epoch 9/100\n",
      "5359/5359 [==============================] - 1s 163us/step - loss: 0.4367 - accuracy: 0.8141 - val_loss: 0.4361 - val_accuracy: 0.8126\n",
      "Epoch 10/100\n",
      "5359/5359 [==============================] - 1s 141us/step - loss: 0.4338 - accuracy: 0.8143 - val_loss: 0.4350 - val_accuracy: 0.8126\n",
      "Epoch 11/100\n",
      "5359/5359 [==============================] - 1s 144us/step - loss: 0.4321 - accuracy: 0.8149 - val_loss: 0.4316 - val_accuracy: 0.8175\n",
      "Epoch 12/100\n",
      "5359/5359 [==============================] - 1s 142us/step - loss: 0.4297 - accuracy: 0.8151 - val_loss: 0.4293 - val_accuracy: 0.8186\n",
      "Epoch 13/100\n",
      "5359/5359 [==============================] - 1s 143us/step - loss: 0.4271 - accuracy: 0.8156 - val_loss: 0.4264 - val_accuracy: 0.8201\n",
      "Epoch 14/100\n",
      "5359/5359 [==============================] - 1s 147us/step - loss: 0.4247 - accuracy: 0.8188 - val_loss: 0.4247 - val_accuracy: 0.8205\n",
      "Epoch 15/100\n",
      "5359/5359 [==============================] - 1s 146us/step - loss: 0.4215 - accuracy: 0.8196 - val_loss: 0.4219 - val_accuracy: 0.8209\n",
      "Epoch 16/100\n",
      "5359/5359 [==============================] - 1s 141us/step - loss: 0.4189 - accuracy: 0.8225 - val_loss: 0.4186 - val_accuracy: 0.8213\n",
      "Epoch 17/100\n",
      "5359/5359 [==============================] - 1s 143us/step - loss: 0.4156 - accuracy: 0.8216 - val_loss: 0.4154 - val_accuracy: 0.8254\n",
      "Epoch 18/100\n",
      "5359/5359 [==============================] - 1s 142us/step - loss: 0.4121 - accuracy: 0.8218 - val_loss: 0.4116 - val_accuracy: 0.8281\n",
      "Epoch 19/100\n",
      "5359/5359 [==============================] - 1s 143us/step - loss: 0.4081 - accuracy: 0.8246 - val_loss: 0.4073 - val_accuracy: 0.8300\n",
      "Epoch 20/100\n",
      "5359/5359 [==============================] - 1s 144us/step - loss: 0.4041 - accuracy: 0.8278 - val_loss: 0.4036 - val_accuracy: 0.8315\n",
      "Epoch 21/100\n",
      "5359/5359 [==============================] - 1s 159us/step - loss: 0.4004 - accuracy: 0.8302 - val_loss: 0.3990 - val_accuracy: 0.8307\n",
      "Epoch 22/100\n",
      "5359/5359 [==============================] - 1s 146us/step - loss: 0.3964 - accuracy: 0.8339 - val_loss: 0.3947 - val_accuracy: 0.8342\n",
      "Epoch 23/100\n",
      "5359/5359 [==============================] - 1s 147us/step - loss: 0.3926 - accuracy: 0.8373 - val_loss: 0.3906 - val_accuracy: 0.8372\n",
      "Epoch 24/100\n",
      "5359/5359 [==============================] - 1s 144us/step - loss: 0.3887 - accuracy: 0.8391 - val_loss: 0.3868 - val_accuracy: 0.8402\n",
      "Epoch 25/100\n",
      "5359/5359 [==============================] - 1s 202us/step - loss: 0.3849 - accuracy: 0.8406 - val_loss: 0.3829 - val_accuracy: 0.8440\n",
      "Epoch 26/100\n",
      "5359/5359 [==============================] - 1s 171us/step - loss: 0.3810 - accuracy: 0.8431 - val_loss: 0.3790 - val_accuracy: 0.8440\n",
      "Epoch 27/100\n",
      "5359/5359 [==============================] - 1s 154us/step - loss: 0.3769 - accuracy: 0.8447 - val_loss: 0.3745 - val_accuracy: 0.8459\n",
      "Epoch 28/100\n",
      "5359/5359 [==============================] - 1s 172us/step - loss: 0.3730 - accuracy: 0.8468 - val_loss: 0.3706 - val_accuracy: 0.8474\n",
      "Epoch 29/100\n",
      "5359/5359 [==============================] - 1s 176us/step - loss: 0.3696 - accuracy: 0.8494 - val_loss: 0.3670 - val_accuracy: 0.8482\n",
      "Epoch 30/100\n",
      "5359/5359 [==============================] - 1s 147us/step - loss: 0.3662 - accuracy: 0.8479 - val_loss: 0.3633 - val_accuracy: 0.8519\n",
      "Epoch 31/100\n",
      "5359/5359 [==============================] - 1s 146us/step - loss: 0.3634 - accuracy: 0.8500 - val_loss: 0.3603 - val_accuracy: 0.8554\n",
      "Epoch 32/100\n",
      "5359/5359 [==============================] - 1s 152us/step - loss: 0.3610 - accuracy: 0.8507 - val_loss: 0.3573 - val_accuracy: 0.8538\n",
      "Epoch 33/100\n",
      "5359/5359 [==============================] - 1s 149us/step - loss: 0.3585 - accuracy: 0.8517 - val_loss: 0.3547 - val_accuracy: 0.8561\n",
      "Epoch 34/100\n",
      "5359/5359 [==============================] - 1s 153us/step - loss: 0.3563 - accuracy: 0.8526 - val_loss: 0.3527 - val_accuracy: 0.8576\n",
      "Epoch 35/100\n",
      "5359/5359 [==============================] - 1s 166us/step - loss: 0.3545 - accuracy: 0.8556 - val_loss: 0.3492 - val_accuracy: 0.8603\n",
      "Epoch 36/100\n",
      "5359/5359 [==============================] - 1s 155us/step - loss: 0.3529 - accuracy: 0.8559 - val_loss: 0.3464 - val_accuracy: 0.8622\n",
      "Epoch 37/100\n",
      "5359/5359 [==============================] - 1s 151us/step - loss: 0.3514 - accuracy: 0.8574 - val_loss: 0.3460 - val_accuracy: 0.8626\n",
      "Epoch 38/100\n",
      "5359/5359 [==============================] - 1s 155us/step - loss: 0.3503 - accuracy: 0.8569 - val_loss: 0.3447 - val_accuracy: 0.8648\n",
      "Epoch 39/100\n",
      "5359/5359 [==============================] - 1s 153us/step - loss: 0.3490 - accuracy: 0.8587 - val_loss: 0.3414 - val_accuracy: 0.8667\n",
      "Epoch 40/100\n",
      "5359/5359 [==============================] - 1s 160us/step - loss: 0.3481 - accuracy: 0.8600 - val_loss: 0.3397 - val_accuracy: 0.8663\n",
      "Epoch 41/100\n",
      "5359/5359 [==============================] - 1s 231us/step - loss: 0.3475 - accuracy: 0.8587 - val_loss: 0.3394 - val_accuracy: 0.8694\n",
      "Epoch 42/100\n",
      "5359/5359 [==============================] - 1s 147us/step - loss: 0.3464 - accuracy: 0.8612 - val_loss: 0.3381 - val_accuracy: 0.8694\n",
      "Epoch 43/100\n",
      "5359/5359 [==============================] - 1s 163us/step - loss: 0.3462 - accuracy: 0.8593 - val_loss: 0.3369 - val_accuracy: 0.8682\n",
      "Epoch 44/100\n",
      "5359/5359 [==============================] - 1s 162us/step - loss: 0.3459 - accuracy: 0.8576 - val_loss: 0.3367 - val_accuracy: 0.8686\n",
      "Epoch 45/100\n",
      "5359/5359 [==============================] - 1s 170us/step - loss: 0.3451 - accuracy: 0.8597 - val_loss: 0.3370 - val_accuracy: 0.8671\n",
      "Epoch 46/100\n",
      "5359/5359 [==============================] - 1s 153us/step - loss: 0.3450 - accuracy: 0.8600 - val_loss: 0.3353 - val_accuracy: 0.8690\n",
      "Epoch 47/100\n",
      "5359/5359 [==============================] - 1s 143us/step - loss: 0.3448 - accuracy: 0.8602 - val_loss: 0.3356 - val_accuracy: 0.8663\n",
      "Epoch 48/100\n",
      "5359/5359 [==============================] - 1s 150us/step - loss: 0.3447 - accuracy: 0.8604 - val_loss: 0.3353 - val_accuracy: 0.8679\n",
      "Epoch 49/100\n",
      "5359/5359 [==============================] - 1s 170us/step - loss: 0.3445 - accuracy: 0.8580 - val_loss: 0.3348 - val_accuracy: 0.8675\n",
      "Epoch 50/100\n",
      "5359/5359 [==============================] - 1s 156us/step - loss: 0.3439 - accuracy: 0.8595 - val_loss: 0.3340 - val_accuracy: 0.8686\n",
      "Epoch 51/100\n",
      "5359/5359 [==============================] - 1s 149us/step - loss: 0.3438 - accuracy: 0.8587 - val_loss: 0.3338 - val_accuracy: 0.8686\n",
      "Epoch 52/100\n",
      "5359/5359 [==============================] - 1s 161us/step - loss: 0.3437 - accuracy: 0.8604 - val_loss: 0.3342 - val_accuracy: 0.8682\n",
      "Epoch 53/100\n",
      "5359/5359 [==============================] - 1s 149us/step - loss: 0.3427 - accuracy: 0.8610 - val_loss: 0.3382 - val_accuracy: 0.8682\n",
      "Epoch 54/100\n",
      "5359/5359 [==============================] - 1s 150us/step - loss: 0.3439 - accuracy: 0.8593 - val_loss: 0.3341 - val_accuracy: 0.8679\n"
     ]
    },
    {
     "name": "stdout",
     "output_type": "stream",
     "text": [
      "Epoch 55/100\n",
      "5359/5359 [==============================] - 1s 144us/step - loss: 0.3429 - accuracy: 0.8597 - val_loss: 0.3342 - val_accuracy: 0.8675\n",
      "Epoch 56/100\n",
      "5359/5359 [==============================] - 1s 142us/step - loss: 0.3428 - accuracy: 0.8591 - val_loss: 0.3343 - val_accuracy: 0.8694\n",
      "Epoch 57/100\n",
      "5359/5359 [==============================] - 1s 155us/step - loss: 0.3430 - accuracy: 0.8610 - val_loss: 0.3338 - val_accuracy: 0.8697\n",
      "Epoch 58/100\n",
      "5359/5359 [==============================] - 1s 154us/step - loss: 0.3425 - accuracy: 0.8597 - val_loss: 0.3335 - val_accuracy: 0.8690\n",
      "Epoch 59/100\n",
      "5359/5359 [==============================] - 1s 146us/step - loss: 0.3424 - accuracy: 0.8599 - val_loss: 0.3335 - val_accuracy: 0.8701\n",
      "Epoch 60/100\n",
      "5359/5359 [==============================] - 1s 143us/step - loss: 0.3420 - accuracy: 0.8593 - val_loss: 0.3350 - val_accuracy: 0.8686\n",
      "Epoch 61/100\n",
      "5359/5359 [==============================] - 1s 148us/step - loss: 0.3421 - accuracy: 0.8602 - val_loss: 0.3338 - val_accuracy: 0.8682\n",
      "Epoch 62/100\n",
      "5359/5359 [==============================] - 1s 157us/step - loss: 0.3420 - accuracy: 0.8621 - val_loss: 0.3337 - val_accuracy: 0.8690\n",
      "Epoch 63/100\n",
      "5359/5359 [==============================] - 1s 154us/step - loss: 0.3416 - accuracy: 0.8578 - val_loss: 0.3335 - val_accuracy: 0.8697\n",
      "Epoch 64/100\n",
      "5359/5359 [==============================] - 1s 157us/step - loss: 0.3415 - accuracy: 0.8602 - val_loss: 0.3337 - val_accuracy: 0.8686\n",
      "Epoch 65/100\n",
      "5359/5359 [==============================] - 1s 155us/step - loss: 0.3416 - accuracy: 0.8610 - val_loss: 0.3332 - val_accuracy: 0.8720\n",
      "Epoch 66/100\n",
      "5359/5359 [==============================] - 1s 147us/step - loss: 0.3415 - accuracy: 0.8600 - val_loss: 0.3335 - val_accuracy: 0.8720\n",
      "Epoch 67/100\n",
      "5359/5359 [==============================] - 1s 147us/step - loss: 0.3413 - accuracy: 0.8604 - val_loss: 0.3328 - val_accuracy: 0.8709\n",
      "Epoch 68/100\n",
      "5359/5359 [==============================] - 1s 147us/step - loss: 0.3413 - accuracy: 0.8614 - val_loss: 0.3336 - val_accuracy: 0.8671\n",
      "Epoch 69/100\n",
      "5359/5359 [==============================] - 1s 144us/step - loss: 0.3407 - accuracy: 0.8600 - val_loss: 0.3341 - val_accuracy: 0.8679\n",
      "Epoch 70/100\n",
      "5359/5359 [==============================] - 1s 158us/step - loss: 0.3408 - accuracy: 0.8610 - val_loss: 0.3334 - val_accuracy: 0.8675\n",
      "Epoch 71/100\n",
      "5359/5359 [==============================] - 1s 153us/step - loss: 0.3407 - accuracy: 0.8595 - val_loss: 0.3331 - val_accuracy: 0.8697\n",
      "Epoch 72/100\n",
      "5359/5359 [==============================] - 1s 159us/step - loss: 0.3407 - accuracy: 0.8619 - val_loss: 0.3332 - val_accuracy: 0.8682\n",
      "Epoch 73/100\n",
      "5359/5359 [==============================] - 1s 151us/step - loss: 0.3401 - accuracy: 0.8606 - val_loss: 0.3330 - val_accuracy: 0.8705\n",
      "Epoch 74/100\n",
      "5359/5359 [==============================] - 1s 147us/step - loss: 0.3400 - accuracy: 0.8615 - val_loss: 0.3343 - val_accuracy: 0.8679\n",
      "Epoch 75/100\n",
      "5359/5359 [==============================] - 1s 146us/step - loss: 0.3403 - accuracy: 0.8617 - val_loss: 0.3331 - val_accuracy: 0.8701\n",
      "Epoch 76/100\n",
      "5359/5359 [==============================] - 1s 157us/step - loss: 0.3399 - accuracy: 0.8606 - val_loss: 0.3332 - val_accuracy: 0.8694\n",
      "Epoch 77/100\n",
      "5359/5359 [==============================] - 1s 154us/step - loss: 0.3398 - accuracy: 0.8614 - val_loss: 0.3335 - val_accuracy: 0.8694\n",
      "Epoch 78/100\n",
      "5359/5359 [==============================] - 1s 148us/step - loss: 0.3397 - accuracy: 0.8615 - val_loss: 0.3339 - val_accuracy: 0.8671\n",
      "Epoch 79/100\n",
      "5359/5359 [==============================] - 1s 149us/step - loss: 0.3392 - accuracy: 0.8621 - val_loss: 0.3339 - val_accuracy: 0.8690\n",
      "Epoch 80/100\n",
      "5359/5359 [==============================] - 1s 155us/step - loss: 0.3395 - accuracy: 0.8630 - val_loss: 0.3334 - val_accuracy: 0.8686\n",
      "Epoch 81/100\n",
      "5359/5359 [==============================] - 1s 156us/step - loss: 0.3392 - accuracy: 0.8617 - val_loss: 0.3331 - val_accuracy: 0.8701\n",
      "Epoch 82/100\n",
      "5359/5359 [==============================] - 1s 147us/step - loss: 0.3392 - accuracy: 0.8628 - val_loss: 0.3332 - val_accuracy: 0.8697\n",
      "Epoch 83/100\n",
      "5359/5359 [==============================] - 1s 156us/step - loss: 0.3388 - accuracy: 0.8630 - val_loss: 0.3334 - val_accuracy: 0.8690\n",
      "Epoch 84/100\n",
      "5359/5359 [==============================] - 1s 156us/step - loss: 0.3388 - accuracy: 0.8628 - val_loss: 0.3331 - val_accuracy: 0.8701\n",
      "Epoch 85/100\n",
      "5359/5359 [==============================] - 1s 160us/step - loss: 0.3388 - accuracy: 0.8621 - val_loss: 0.3328 - val_accuracy: 0.8701\n",
      "Epoch 86/100\n",
      "5359/5359 [==============================] - 1s 151us/step - loss: 0.3385 - accuracy: 0.8621 - val_loss: 0.3338 - val_accuracy: 0.8690\n",
      "Epoch 87/100\n",
      "5359/5359 [==============================] - 1s 168us/step - loss: 0.3387 - accuracy: 0.8619 - val_loss: 0.3334 - val_accuracy: 0.8690\n",
      "Epoch 88/100\n",
      "5359/5359 [==============================] - ETA: 0s - loss: 0.3381 - accuracy: 0.86 - 1s 143us/step - loss: 0.3381 - accuracy: 0.8615 - val_loss: 0.3350 - val_accuracy: 0.8686\n",
      "Epoch 89/100\n",
      "5359/5359 [==============================] - 1s 161us/step - loss: 0.3389 - accuracy: 0.8621 - val_loss: 0.3334 - val_accuracy: 0.8709\n",
      "Epoch 90/100\n",
      "5359/5359 [==============================] - 1s 151us/step - loss: 0.3379 - accuracy: 0.8630 - val_loss: 0.3332 - val_accuracy: 0.8705\n",
      "Epoch 91/100\n",
      "5359/5359 [==============================] - 1s 180us/step - loss: 0.3380 - accuracy: 0.8628 - val_loss: 0.3339 - val_accuracy: 0.8697\n",
      "Epoch 92/100\n",
      "5359/5359 [==============================] - 1s 164us/step - loss: 0.3380 - accuracy: 0.8608 - val_loss: 0.3331 - val_accuracy: 0.8720\n",
      "Epoch 93/100\n",
      "5359/5359 [==============================] - 1s 159us/step - loss: 0.3380 - accuracy: 0.8621 - val_loss: 0.3334 - val_accuracy: 0.8694\n",
      "Epoch 94/100\n",
      "5359/5359 [==============================] - 1s 165us/step - loss: 0.3382 - accuracy: 0.8612 - val_loss: 0.3331 - val_accuracy: 0.8713\n",
      "Epoch 95/100\n",
      "5359/5359 [==============================] - 1s 168us/step - loss: 0.3379 - accuracy: 0.8634 - val_loss: 0.3335 - val_accuracy: 0.8679\n",
      "Epoch 96/100\n",
      "5359/5359 [==============================] - 1s 165us/step - loss: 0.3379 - accuracy: 0.8619 - val_loss: 0.3329 - val_accuracy: 0.8690\n",
      "Epoch 97/100\n",
      "5359/5359 [==============================] - 1s 180us/step - loss: 0.3374 - accuracy: 0.8632 - val_loss: 0.3329 - val_accuracy: 0.8701\n",
      "Epoch 98/100\n",
      "5359/5359 [==============================] - 1s 151us/step - loss: 0.3374 - accuracy: 0.8630 - val_loss: 0.3332 - val_accuracy: 0.8694\n",
      "Epoch 99/100\n",
      "5359/5359 [==============================] - 1s 157us/step - loss: 0.3374 - accuracy: 0.8614 - val_loss: 0.3337 - val_accuracy: 0.8705\n",
      "Epoch 100/100\n",
      "5359/5359 [==============================] - 1s 157us/step - loss: 0.3372 - accuracy: 0.8617 - val_loss: 0.3335 - val_accuracy: 0.8701\n"
     ]
    }
   ],
   "source": [
    "# Fitting the ANN to the Training set\n",
    "model_history=classifier.fit(x_train, y_train,validation_split=0.33, batch_size = 10, nb_epoch = 100)"
   ]
  },
  {
   "cell_type": "code",
   "execution_count": 57,
   "metadata": {},
   "outputs": [
    {
     "name": "stdout",
     "output_type": "stream",
     "text": [
      "dict_keys(['val_loss', 'val_accuracy', 'loss', 'accuracy'])\n"
     ]
    },
    {
     "data": {
      "image/png": "[encoded data removed]",
      "text/plain": [
       "<Figure size 432x288 with 1 Axes>"
      ]
     },
     "metadata": {
      "needs_background": "light"
     },
     "output_type": "display_data"
    }
   ],
   "source": [
    "# list all data in history\n",
    "\n",
    "print(model_history.history.keys())\n",
    "# summarize history for accuracy\n",
    "plt.plot(model_history.history['accuracy'])\n",
    "plt.plot(model_history.history['val_accuracy'])\n",
    "plt.title('model accuracy')\n",
    "plt.ylabel('accuracy')\n",
    "plt.xlabel('epoch')\n",
    "plt.legend(['train', 'test'], loc='upper left')\n",
    "plt.show()"
   ]
  },
  {
   "cell_type": "code",
   "execution_count": 58,
   "metadata": {},
   "outputs": [
    {
     "data": {
      "image/png": "[encoded data removed]",
      "text/plain": [
       "<Figure size 432x288 with 1 Axes>"
      ]
     },
     "metadata": {
      "needs_background": "light"
     },
     "output_type": "display_data"
    }
   ],
   "source": [
    "# summarize history for loss\n",
    "plt.plot(model_history.history['loss'])\n",
    "plt.plot(model_history.history['val_loss'])\n",
    "plt.title('model loss')\n",
    "plt.ylabel('loss')\n",
    "plt.xlabel('epoch')\n",
    "plt.legend(['train', 'test'], loc='upper left')\n",
    "plt.show()"
   ]
  },
  {
   "cell_type": "code",
   "execution_count": 64,
   "metadata": {},
   "outputs": [
    {
     "data": {
      "text/plain": [
       "array([[False],\n",
       "       [ True],\n",
       "       [False],\n",
       "       ...,\n",
       "       [ True],\n",
       "       [False],\n",
       "       [False]])"
      ]
     },
     "execution_count": 64,
     "metadata": {},
     "output_type": "execute_result"
    }
   ],
   "source": [
    "# Part 3 - Making the predictions and evaluating the model\n",
    "# Predicting the Test set results\n",
    "y_pred = classifier.predict(x_test)\n",
    "y_pred = (y_pred > 0.5)\n",
    "y_pred"
   ]
  },
  {
   "cell_type": "code",
   "execution_count": 62,
   "metadata": {},
   "outputs": [
    {
     "data": {
      "text/plain": [
       "array([[1524,   71],\n",
       "       [ 210,  195]], dtype=int64)"
      ]
     },
     "execution_count": 62,
     "metadata": {},
     "output_type": "execute_result"
    }
   ],
   "source": [
    "# Making the Confusion Matrix\n",
    "from sklearn.metrics import confusion_matrix\n",
    "cm = confusion_matrix(y_test, y_pred)\n",
    "cm"
   ]
  },
  {
   "cell_type": "code",
   "execution_count": 63,
   "metadata": {},
   "outputs": [
    {
     "data": {
      "text/plain": [
       "0.8595"
      ]
     },
     "execution_count": 63,
     "metadata": {},
     "output_type": "execute_result"
    }
   ],
   "source": [
    "# Calculate the Accuracy\n",
    "from sklearn.metrics import accuracy_score\n",
    "score=accuracy_score(y_pred,y_test)\n",
    "score"
   ]
  },
  {
   "cell_type": "code",
   "execution_count": null,
   "metadata": {},
   "outputs": [],
   "source": []
  }
 ],
 "metadata": {
  "kernelspec": {
   "display_name": "Python 3",
   "language": "python",
   "name": "python3"
  },
  "language_info": {
   "codemirror_mode": {
    "name": "ipython",
    "version": 3
   },
   "file_extension": ".py",
   "mimetype": "text/x-python",
   "name": "python",
   "nbconvert_exporter": "python",
   "pygments_lexer": "ipython3",
   "version": "3.7.6"
  }
 },
 "nbformat": 4,
 "nbformat_minor": 4
}
